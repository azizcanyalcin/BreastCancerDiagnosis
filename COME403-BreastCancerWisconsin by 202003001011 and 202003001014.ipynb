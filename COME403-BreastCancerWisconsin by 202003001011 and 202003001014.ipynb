{
  "nbformat": 4,
  "nbformat_minor": 0,
  "metadata": {
    "colab": {
      "provenance": []
    },
    "kernelspec": {
      "name": "python3",
      "display_name": "Python 3"
    },
    "language_info": {
      "name": "python"
    }
  },
  "cells": [
    {
      "cell_type": "code",
      "execution_count": 4,
      "metadata": {
        "id": "sR_kF0wN9mRx"
      },
      "outputs": [],
      "source": [
        "#COME 403 Project Report by Mert Topkaya(202003001011) and Azizcan Yalçın(202003001014)\n",
        "#used from website :\"https://archive.ics.uci.edu/dataset/17/breast+cancer+wisconsin+diagnostic\"\n",
        "import numpy as np\n",
        "import pandas as pd\n",
        "import matplotlib.pyplot as plt\n",
        "df_bcancer=pd.read_csv(\"wdbc.data\", header=None)\n",
        "df_bcancer.columns =['ID', 'Diagnosis', 'radius1', 'texture1', 'perimeter1', 'area1', 'smoothness1', 'compactness1', 'concavity1', 'concavepoints1', 'symmetry1', 'fractal_dimension1',\n",
        "                  'radius2', 'texture2', 'perimeter2', 'area2', 'smoothness2', 'compactness2', 'concavity2', 'concave_points2', 'symmetry2', 'fractal_dimension2', 'radius3', 'texture3',\n",
        "                  'perimeter3', 'area3', 'smoothness3', 'compactness3', 'concavity3', 'concave_points3', 'symmetry3','fractal_dimension3']\n",
        "#ID : Unique identifier for each patient.\n",
        "#Diagnosis : The diagnosis of breast cancer 1 means malignant and 0 means bening.\n",
        "#Radius(1,2,3) : mean of distances from center to points on the perimeter.\n",
        "#Texture(1, 2, 3) : Standart deviation of gray-scale values.\n",
        "#Perimeter(1, 2, 3) : For breast mass.\n",
        "#Area(1, 2, 3) : For breast mass.\n",
        "#Smoothness(1, 2, 3) : Local variation in radius lenghts.\n",
        "#Compactness(1, 2, 3) : (perimeter^2/area-1.0)\n",
        "#Concavity(1, 2, 3,) :  Severity of concave portions of the contour.\n",
        "#Concave Points(1, 2, 3) : Number of concave portions of the contour.\n",
        "#Symmetry(1, 2, 3) : For breast mass.\n",
        "#Fractal Dimension(1, 2, 3) : (“Coastline approximation”-1)"
      ]
    },
    {
      "cell_type": "code",
      "source": [
        "df_bcancer.head()"
      ],
      "metadata": {
        "id": "Lfj3ltFo-gOJ",
        "colab": {
          "base_uri": "https://localhost:8080/",
          "height": 256
        },
        "outputId": "d7ae6912-50a4-4830-bf31-db4151376f1a"
      },
      "execution_count": null,
      "outputs": [
        {
          "output_type": "execute_result",
          "data": {
            "text/plain": [
              "         ID Diagnosis  radius1  texture1  perimeter1   area1  smoothness1  \\\n",
              "0    842302         M    17.99     10.38      122.80  1001.0      0.11840   \n",
              "1    842517         M    20.57     17.77      132.90  1326.0      0.08474   \n",
              "2  84300903         M    19.69     21.25      130.00  1203.0      0.10960   \n",
              "3  84348301         M    11.42     20.38       77.58   386.1      0.14250   \n",
              "4  84358402         M    20.29     14.34      135.10  1297.0      0.10030   \n",
              "\n",
              "   compactness1  concavity1  concavepoints1  ...  radius3  texture3  \\\n",
              "0       0.27760      0.3001         0.14710  ...    25.38     17.33   \n",
              "1       0.07864      0.0869         0.07017  ...    24.99     23.41   \n",
              "2       0.15990      0.1974         0.12790  ...    23.57     25.53   \n",
              "3       0.28390      0.2414         0.10520  ...    14.91     26.50   \n",
              "4       0.13280      0.1980         0.10430  ...    22.54     16.67   \n",
              "\n",
              "   perimeter3   area3  smoothness3  compactness3  concavity3  concave_points3  \\\n",
              "0      184.60  2019.0       0.1622        0.6656      0.7119           0.2654   \n",
              "1      158.80  1956.0       0.1238        0.1866      0.2416           0.1860   \n",
              "2      152.50  1709.0       0.1444        0.4245      0.4504           0.2430   \n",
              "3       98.87   567.7       0.2098        0.8663      0.6869           0.2575   \n",
              "4      152.20  1575.0       0.1374        0.2050      0.4000           0.1625   \n",
              "\n",
              "   symmetry3  fractal_dimension3  \n",
              "0     0.4601             0.11890  \n",
              "1     0.2750             0.08902  \n",
              "2     0.3613             0.08758  \n",
              "3     0.6638             0.17300  \n",
              "4     0.2364             0.07678  \n",
              "\n",
              "[5 rows x 32 columns]"
            ],
            "text/html": [
              "\n",
              "  <div id=\"df-e451dfa0-9ff0-4a70-b8e2-0dd3d75e4a7d\" class=\"colab-df-container\">\n",
              "    <div>\n",
              "<style scoped>\n",
              "    .dataframe tbody tr th:only-of-type {\n",
              "        vertical-align: middle;\n",
              "    }\n",
              "\n",
              "    .dataframe tbody tr th {\n",
              "        vertical-align: top;\n",
              "    }\n",
              "\n",
              "    .dataframe thead th {\n",
              "        text-align: right;\n",
              "    }\n",
              "</style>\n",
              "<table border=\"1\" class=\"dataframe\">\n",
              "  <thead>\n",
              "    <tr style=\"text-align: right;\">\n",
              "      <th></th>\n",
              "      <th>ID</th>\n",
              "      <th>Diagnosis</th>\n",
              "      <th>radius1</th>\n",
              "      <th>texture1</th>\n",
              "      <th>perimeter1</th>\n",
              "      <th>area1</th>\n",
              "      <th>smoothness1</th>\n",
              "      <th>compactness1</th>\n",
              "      <th>concavity1</th>\n",
              "      <th>concavepoints1</th>\n",
              "      <th>...</th>\n",
              "      <th>radius3</th>\n",
              "      <th>texture3</th>\n",
              "      <th>perimeter3</th>\n",
              "      <th>area3</th>\n",
              "      <th>smoothness3</th>\n",
              "      <th>compactness3</th>\n",
              "      <th>concavity3</th>\n",
              "      <th>concave_points3</th>\n",
              "      <th>symmetry3</th>\n",
              "      <th>fractal_dimension3</th>\n",
              "    </tr>\n",
              "  </thead>\n",
              "  <tbody>\n",
              "    <tr>\n",
              "      <th>0</th>\n",
              "      <td>842302</td>\n",
              "      <td>M</td>\n",
              "      <td>17.99</td>\n",
              "      <td>10.38</td>\n",
              "      <td>122.80</td>\n",
              "      <td>1001.0</td>\n",
              "      <td>0.11840</td>\n",
              "      <td>0.27760</td>\n",
              "      <td>0.3001</td>\n",
              "      <td>0.14710</td>\n",
              "      <td>...</td>\n",
              "      <td>25.38</td>\n",
              "      <td>17.33</td>\n",
              "      <td>184.60</td>\n",
              "      <td>2019.0</td>\n",
              "      <td>0.1622</td>\n",
              "      <td>0.6656</td>\n",
              "      <td>0.7119</td>\n",
              "      <td>0.2654</td>\n",
              "      <td>0.4601</td>\n",
              "      <td>0.11890</td>\n",
              "    </tr>\n",
              "    <tr>\n",
              "      <th>1</th>\n",
              "      <td>842517</td>\n",
              "      <td>M</td>\n",
              "      <td>20.57</td>\n",
              "      <td>17.77</td>\n",
              "      <td>132.90</td>\n",
              "      <td>1326.0</td>\n",
              "      <td>0.08474</td>\n",
              "      <td>0.07864</td>\n",
              "      <td>0.0869</td>\n",
              "      <td>0.07017</td>\n",
              "      <td>...</td>\n",
              "      <td>24.99</td>\n",
              "      <td>23.41</td>\n",
              "      <td>158.80</td>\n",
              "      <td>1956.0</td>\n",
              "      <td>0.1238</td>\n",
              "      <td>0.1866</td>\n",
              "      <td>0.2416</td>\n",
              "      <td>0.1860</td>\n",
              "      <td>0.2750</td>\n",
              "      <td>0.08902</td>\n",
              "    </tr>\n",
              "    <tr>\n",
              "      <th>2</th>\n",
              "      <td>84300903</td>\n",
              "      <td>M</td>\n",
              "      <td>19.69</td>\n",
              "      <td>21.25</td>\n",
              "      <td>130.00</td>\n",
              "      <td>1203.0</td>\n",
              "      <td>0.10960</td>\n",
              "      <td>0.15990</td>\n",
              "      <td>0.1974</td>\n",
              "      <td>0.12790</td>\n",
              "      <td>...</td>\n",
              "      <td>23.57</td>\n",
              "      <td>25.53</td>\n",
              "      <td>152.50</td>\n",
              "      <td>1709.0</td>\n",
              "      <td>0.1444</td>\n",
              "      <td>0.4245</td>\n",
              "      <td>0.4504</td>\n",
              "      <td>0.2430</td>\n",
              "      <td>0.3613</td>\n",
              "      <td>0.08758</td>\n",
              "    </tr>\n",
              "    <tr>\n",
              "      <th>3</th>\n",
              "      <td>84348301</td>\n",
              "      <td>M</td>\n",
              "      <td>11.42</td>\n",
              "      <td>20.38</td>\n",
              "      <td>77.58</td>\n",
              "      <td>386.1</td>\n",
              "      <td>0.14250</td>\n",
              "      <td>0.28390</td>\n",
              "      <td>0.2414</td>\n",
              "      <td>0.10520</td>\n",
              "      <td>...</td>\n",
              "      <td>14.91</td>\n",
              "      <td>26.50</td>\n",
              "      <td>98.87</td>\n",
              "      <td>567.7</td>\n",
              "      <td>0.2098</td>\n",
              "      <td>0.8663</td>\n",
              "      <td>0.6869</td>\n",
              "      <td>0.2575</td>\n",
              "      <td>0.6638</td>\n",
              "      <td>0.17300</td>\n",
              "    </tr>\n",
              "    <tr>\n",
              "      <th>4</th>\n",
              "      <td>84358402</td>\n",
              "      <td>M</td>\n",
              "      <td>20.29</td>\n",
              "      <td>14.34</td>\n",
              "      <td>135.10</td>\n",
              "      <td>1297.0</td>\n",
              "      <td>0.10030</td>\n",
              "      <td>0.13280</td>\n",
              "      <td>0.1980</td>\n",
              "      <td>0.10430</td>\n",
              "      <td>...</td>\n",
              "      <td>22.54</td>\n",
              "      <td>16.67</td>\n",
              "      <td>152.20</td>\n",
              "      <td>1575.0</td>\n",
              "      <td>0.1374</td>\n",
              "      <td>0.2050</td>\n",
              "      <td>0.4000</td>\n",
              "      <td>0.1625</td>\n",
              "      <td>0.2364</td>\n",
              "      <td>0.07678</td>\n",
              "    </tr>\n",
              "  </tbody>\n",
              "</table>\n",
              "<p>5 rows × 32 columns</p>\n",
              "</div>\n",
              "    <div class=\"colab-df-buttons\">\n",
              "\n",
              "  <div class=\"colab-df-container\">\n",
              "    <button class=\"colab-df-convert\" onclick=\"convertToInteractive('df-e451dfa0-9ff0-4a70-b8e2-0dd3d75e4a7d')\"\n",
              "            title=\"Convert this dataframe to an interactive table.\"\n",
              "            style=\"display:none;\">\n",
              "\n",
              "  <svg xmlns=\"http://www.w3.org/2000/svg\" height=\"24px\" viewBox=\"0 -960 960 960\">\n",
              "    <path d=\"M120-120v-720h720v720H120Zm60-500h600v-160H180v160Zm220 220h160v-160H400v160Zm0 220h160v-160H400v160ZM180-400h160v-160H180v160Zm440 0h160v-160H620v160ZM180-180h160v-160H180v160Zm440 0h160v-160H620v160Z\"/>\n",
              "  </svg>\n",
              "    </button>\n",
              "\n",
              "  <style>\n",
              "    .colab-df-container {\n",
              "      display:flex;\n",
              "      gap: 12px;\n",
              "    }\n",
              "\n",
              "    .colab-df-convert {\n",
              "      background-color: #E8F0FE;\n",
              "      border: none;\n",
              "      border-radius: 50%;\n",
              "      cursor: pointer;\n",
              "      display: none;\n",
              "      fill: #1967D2;\n",
              "      height: 32px;\n",
              "      padding: 0 0 0 0;\n",
              "      width: 32px;\n",
              "    }\n",
              "\n",
              "    .colab-df-convert:hover {\n",
              "      background-color: #E2EBFA;\n",
              "      box-shadow: 0px 1px 2px rgba(60, 64, 67, 0.3), 0px 1px 3px 1px rgba(60, 64, 67, 0.15);\n",
              "      fill: #174EA6;\n",
              "    }\n",
              "\n",
              "    .colab-df-buttons div {\n",
              "      margin-bottom: 4px;\n",
              "    }\n",
              "\n",
              "    [theme=dark] .colab-df-convert {\n",
              "      background-color: #3B4455;\n",
              "      fill: #D2E3FC;\n",
              "    }\n",
              "\n",
              "    [theme=dark] .colab-df-convert:hover {\n",
              "      background-color: #434B5C;\n",
              "      box-shadow: 0px 1px 3px 1px rgba(0, 0, 0, 0.15);\n",
              "      filter: drop-shadow(0px 1px 2px rgba(0, 0, 0, 0.3));\n",
              "      fill: #FFFFFF;\n",
              "    }\n",
              "  </style>\n",
              "\n",
              "    <script>\n",
              "      const buttonEl =\n",
              "        document.querySelector('#df-e451dfa0-9ff0-4a70-b8e2-0dd3d75e4a7d button.colab-df-convert');\n",
              "      buttonEl.style.display =\n",
              "        google.colab.kernel.accessAllowed ? 'block' : 'none';\n",
              "\n",
              "      async function convertToInteractive(key) {\n",
              "        const element = document.querySelector('#df-e451dfa0-9ff0-4a70-b8e2-0dd3d75e4a7d');\n",
              "        const dataTable =\n",
              "          await google.colab.kernel.invokeFunction('convertToInteractive',\n",
              "                                                    [key], {});\n",
              "        if (!dataTable) return;\n",
              "\n",
              "        const docLinkHtml = 'Like what you see? Visit the ' +\n",
              "          '<a target=\"_blank\" href=https://colab.research.google.com/notebooks/data_table.ipynb>data table notebook</a>'\n",
              "          + ' to learn more about interactive tables.';\n",
              "        element.innerHTML = '';\n",
              "        dataTable['output_type'] = 'display_data';\n",
              "        await google.colab.output.renderOutput(dataTable, element);\n",
              "        const docLink = document.createElement('div');\n",
              "        docLink.innerHTML = docLinkHtml;\n",
              "        element.appendChild(docLink);\n",
              "      }\n",
              "    </script>\n",
              "  </div>\n",
              "\n",
              "\n",
              "<div id=\"df-723c9f23-5df9-447a-931a-0d712ab66eef\">\n",
              "  <button class=\"colab-df-quickchart\" onclick=\"quickchart('df-723c9f23-5df9-447a-931a-0d712ab66eef')\"\n",
              "            title=\"Suggest charts\"\n",
              "            style=\"display:none;\">\n",
              "\n",
              "<svg xmlns=\"http://www.w3.org/2000/svg\" height=\"24px\"viewBox=\"0 0 24 24\"\n",
              "     width=\"24px\">\n",
              "    <g>\n",
              "        <path d=\"M19 3H5c-1.1 0-2 .9-2 2v14c0 1.1.9 2 2 2h14c1.1 0 2-.9 2-2V5c0-1.1-.9-2-2-2zM9 17H7v-7h2v7zm4 0h-2V7h2v10zm4 0h-2v-4h2v4z\"/>\n",
              "    </g>\n",
              "</svg>\n",
              "  </button>\n",
              "\n",
              "<style>\n",
              "  .colab-df-quickchart {\n",
              "      --bg-color: #E8F0FE;\n",
              "      --fill-color: #1967D2;\n",
              "      --hover-bg-color: #E2EBFA;\n",
              "      --hover-fill-color: #174EA6;\n",
              "      --disabled-fill-color: #AAA;\n",
              "      --disabled-bg-color: #DDD;\n",
              "  }\n",
              "\n",
              "  [theme=dark] .colab-df-quickchart {\n",
              "      --bg-color: #3B4455;\n",
              "      --fill-color: #D2E3FC;\n",
              "      --hover-bg-color: #434B5C;\n",
              "      --hover-fill-color: #FFFFFF;\n",
              "      --disabled-bg-color: #3B4455;\n",
              "      --disabled-fill-color: #666;\n",
              "  }\n",
              "\n",
              "  .colab-df-quickchart {\n",
              "    background-color: var(--bg-color);\n",
              "    border: none;\n",
              "    border-radius: 50%;\n",
              "    cursor: pointer;\n",
              "    display: none;\n",
              "    fill: var(--fill-color);\n",
              "    height: 32px;\n",
              "    padding: 0;\n",
              "    width: 32px;\n",
              "  }\n",
              "\n",
              "  .colab-df-quickchart:hover {\n",
              "    background-color: var(--hover-bg-color);\n",
              "    box-shadow: 0 1px 2px rgba(60, 64, 67, 0.3), 0 1px 3px 1px rgba(60, 64, 67, 0.15);\n",
              "    fill: var(--button-hover-fill-color);\n",
              "  }\n",
              "\n",
              "  .colab-df-quickchart-complete:disabled,\n",
              "  .colab-df-quickchart-complete:disabled:hover {\n",
              "    background-color: var(--disabled-bg-color);\n",
              "    fill: var(--disabled-fill-color);\n",
              "    box-shadow: none;\n",
              "  }\n",
              "\n",
              "  .colab-df-spinner {\n",
              "    border: 2px solid var(--fill-color);\n",
              "    border-color: transparent;\n",
              "    border-bottom-color: var(--fill-color);\n",
              "    animation:\n",
              "      spin 1s steps(1) infinite;\n",
              "  }\n",
              "\n",
              "  @keyframes spin {\n",
              "    0% {\n",
              "      border-color: transparent;\n",
              "      border-bottom-color: var(--fill-color);\n",
              "      border-left-color: var(--fill-color);\n",
              "    }\n",
              "    20% {\n",
              "      border-color: transparent;\n",
              "      border-left-color: var(--fill-color);\n",
              "      border-top-color: var(--fill-color);\n",
              "    }\n",
              "    30% {\n",
              "      border-color: transparent;\n",
              "      border-left-color: var(--fill-color);\n",
              "      border-top-color: var(--fill-color);\n",
              "      border-right-color: var(--fill-color);\n",
              "    }\n",
              "    40% {\n",
              "      border-color: transparent;\n",
              "      border-right-color: var(--fill-color);\n",
              "      border-top-color: var(--fill-color);\n",
              "    }\n",
              "    60% {\n",
              "      border-color: transparent;\n",
              "      border-right-color: var(--fill-color);\n",
              "    }\n",
              "    80% {\n",
              "      border-color: transparent;\n",
              "      border-right-color: var(--fill-color);\n",
              "      border-bottom-color: var(--fill-color);\n",
              "    }\n",
              "    90% {\n",
              "      border-color: transparent;\n",
              "      border-bottom-color: var(--fill-color);\n",
              "    }\n",
              "  }\n",
              "</style>\n",
              "\n",
              "  <script>\n",
              "    async function quickchart(key) {\n",
              "      const quickchartButtonEl =\n",
              "        document.querySelector('#' + key + ' button');\n",
              "      quickchartButtonEl.disabled = true;  // To prevent multiple clicks.\n",
              "      quickchartButtonEl.classList.add('colab-df-spinner');\n",
              "      try {\n",
              "        const charts = await google.colab.kernel.invokeFunction(\n",
              "            'suggestCharts', [key], {});\n",
              "      } catch (error) {\n",
              "        console.error('Error during call to suggestCharts:', error);\n",
              "      }\n",
              "      quickchartButtonEl.classList.remove('colab-df-spinner');\n",
              "      quickchartButtonEl.classList.add('colab-df-quickchart-complete');\n",
              "    }\n",
              "    (() => {\n",
              "      let quickchartButtonEl =\n",
              "        document.querySelector('#df-723c9f23-5df9-447a-931a-0d712ab66eef button');\n",
              "      quickchartButtonEl.style.display =\n",
              "        google.colab.kernel.accessAllowed ? 'block' : 'none';\n",
              "    })();\n",
              "  </script>\n",
              "</div>\n",
              "\n",
              "    </div>\n",
              "  </div>\n"
            ]
          },
          "metadata": {},
          "execution_count": 18
        }
      ]
    },
    {
      "cell_type": "code",
      "source": [
        "from sklearn import preprocessing\n",
        "#created here labelencoder as \"le\"\n",
        "le = preprocessing.LabelEncoder()\n",
        "#convert them to numbers\n",
        "df_bcancer[\"Diagnosis\"]=le.fit_transform(df_bcancer.iloc[:, 1].values)\n",
        "#Malignant(M) means 1, bening(B) means 0.\n",
        "print(df_bcancer.head())"
      ],
      "metadata": {
        "colab": {
          "base_uri": "https://localhost:8080/"
        },
        "id": "ZfuO_hsYryDF",
        "outputId": "c24876a4-b57e-408f-c02c-33377f228ba9"
      },
      "execution_count": null,
      "outputs": [
        {
          "output_type": "stream",
          "name": "stdout",
          "text": [
            "         ID  Diagnosis  radius1  texture1  perimeter1   area1  smoothness1  \\\n",
            "0    842302          1    17.99     10.38      122.80  1001.0      0.11840   \n",
            "1    842517          1    20.57     17.77      132.90  1326.0      0.08474   \n",
            "2  84300903          1    19.69     21.25      130.00  1203.0      0.10960   \n",
            "3  84348301          1    11.42     20.38       77.58   386.1      0.14250   \n",
            "4  84358402          1    20.29     14.34      135.10  1297.0      0.10030   \n",
            "\n",
            "   compactness1  concavity1  concavepoints1  ...  radius3  texture3  \\\n",
            "0       0.27760      0.3001         0.14710  ...    25.38     17.33   \n",
            "1       0.07864      0.0869         0.07017  ...    24.99     23.41   \n",
            "2       0.15990      0.1974         0.12790  ...    23.57     25.53   \n",
            "3       0.28390      0.2414         0.10520  ...    14.91     26.50   \n",
            "4       0.13280      0.1980         0.10430  ...    22.54     16.67   \n",
            "\n",
            "   perimeter3   area3  smoothness3  compactness3  concavity3  concave_points3  \\\n",
            "0      184.60  2019.0       0.1622        0.6656      0.7119           0.2654   \n",
            "1      158.80  1956.0       0.1238        0.1866      0.2416           0.1860   \n",
            "2      152.50  1709.0       0.1444        0.4245      0.4504           0.2430   \n",
            "3       98.87   567.7       0.2098        0.8663      0.6869           0.2575   \n",
            "4      152.20  1575.0       0.1374        0.2050      0.4000           0.1625   \n",
            "\n",
            "   symmetry3  fractal_dimension3  \n",
            "0     0.4601             0.11890  \n",
            "1     0.2750             0.08902  \n",
            "2     0.3613             0.08758  \n",
            "3     0.6638             0.17300  \n",
            "4     0.2364             0.07678  \n",
            "\n",
            "[5 rows x 32 columns]\n"
          ]
        }
      ]
    },
    {
      "cell_type": "code",
      "source": [
        "print(df_bcancer.shape)#rows and columns\n",
        "print(df_bcancer.shape[0])#rows\n",
        "print(df_bcancer.shape[1])#columns\n"
      ],
      "metadata": {
        "colab": {
          "base_uri": "https://localhost:8080/"
        },
        "id": "7rnIVbAm3nYX",
        "outputId": "b3de2033-5d65-40ab-86c7-007d10a2a965"
      },
      "execution_count": null,
      "outputs": [
        {
          "output_type": "stream",
          "name": "stdout",
          "text": [
            "(569, 32)\n",
            "569\n",
            "32\n"
          ]
        }
      ]
    },
    {
      "cell_type": "code",
      "source": [
        "from sklearn.model_selection import train_test_split\n",
        "X,y = df_bcancer.iloc[:,2:], df_bcancer.iloc[:,1]\n",
        "#here X is assigned to the all columns except the first one!.meanwhile y just assigned to the \"first column\" for prediction\n",
        "X_train, X_test,y_train, y_test = train_test_split(X, y, test_size=0.3, random_state=0, stratify=y)\n",
        "#here %30 of the data will be used for test and %70 of the data will be used for training set.Random splitting data will be remain same and stratify ensures training and test have the same\n",
        "#proportion of class label as the orig dataset."
      ],
      "metadata": {
        "id": "NWrj9EoOdxcV"
      },
      "execution_count": null,
      "outputs": []
    },
    {
      "cell_type": "code",
      "source": [
        "from sklearn.preprocessing import StandardScaler\n",
        "stdsc = StandardScaler()\n",
        "X_train_std=stdsc.fit_transform(X_train)\n",
        "X_test_std=stdsc.transform(X_test)\n",
        "#its already calculated in transform data so...to make sure model calculates the data from training."
      ],
      "metadata": {
        "id": "yzkmn4ash6I-"
      },
      "execution_count": null,
      "outputs": []
    },
    {
      "cell_type": "code",
      "source": [
        "from sklearn.neighbors import KNeighborsClassifier\n",
        "#for K=3\n",
        "classifier_k3  = KNeighborsClassifier(n_neighbors=3, metric='euclidean')\n",
        "classifier_k3.fit(X_train_std, y_train)\n",
        "y_pred_k3=classifier_k3.predict(X_test_std)\n"
      ],
      "metadata": {
        "id": "nZs3_kIbo4cB"
      },
      "execution_count": null,
      "outputs": []
    },
    {
      "cell_type": "code",
      "source": [
        "from sklearn.metrics import confusion_matrix\n",
        "cm_k3 = confusion_matrix(y_test, y_pred_k3)"
      ],
      "metadata": {
        "id": "YlB-WvLJyomp"
      },
      "execution_count": null,
      "outputs": []
    },
    {
      "cell_type": "code",
      "source": [
        "cm_k3"
      ],
      "metadata": {
        "colab": {
          "base_uri": "https://localhost:8080/"
        },
        "id": "GN6-iiBay12m",
        "outputId": "e33cea6f-1f97-4807-9ba6-01941c0749ed"
      },
      "execution_count": null,
      "outputs": [
        {
          "output_type": "execute_result",
          "data": {
            "text/plain": [
              "array([[100,   7],\n",
              "       [  4,  60]])"
            ]
          },
          "metadata": {},
          "execution_count": 28
        }
      ]
    },
    {
      "cell_type": "code",
      "source": [
        "#TP=100, FN=7, FP=4 and TN=60 as we can see.This was for K3\n",
        "from sklearn.metrics import accuracy_score\n",
        "accuracy_score(y_test, y_pred_k3)\n",
        "accuracy_k3=accuracy_score(y_test, y_pred_k3)\n",
        "print(accuracy_k3)"
      ],
      "metadata": {
        "colab": {
          "base_uri": "https://localhost:8080/"
        },
        "id": "H9bnWVgCy3AV",
        "outputId": "4eef035c-fda2-4ec2-ee37-addbed94a60d"
      },
      "execution_count": null,
      "outputs": [
        {
          "output_type": "stream",
          "name": "stdout",
          "text": [
            "0.935672514619883\n"
          ]
        }
      ]
    },
    {
      "cell_type": "code",
      "source": [
        "#Now for K7\n",
        "classifier_k7 = KNeighborsClassifier(n_neighbors=7, metric='euclidean')\n",
        "classifier_k7.fit(X_train_std, y_train)\n",
        "y_pred_k7=classifier_k7.predict(X_test_std)\n",
        "cm_k7 = confusion_matrix(y_test, y_pred_k7)\n",
        "cm_k7"
      ],
      "metadata": {
        "colab": {
          "base_uri": "https://localhost:8080/"
        },
        "id": "ACT-s4APzke_",
        "outputId": "e66eb9c4-40b2-433b-e19f-d537b9b8927d"
      },
      "execution_count": null,
      "outputs": [
        {
          "output_type": "execute_result",
          "data": {
            "text/plain": [
              "array([[101,   6],\n",
              "       [  5,  59]])"
            ]
          },
          "metadata": {},
          "execution_count": 35
        }
      ]
    },
    {
      "cell_type": "code",
      "source": [
        "accuracy_score(y_test, y_pred_k7)\n",
        "accuracy_k7=accuracy_score(y_test, y_pred_k7)\n",
        "print(accuracy_k7)"
      ],
      "metadata": {
        "colab": {
          "base_uri": "https://localhost:8080/"
        },
        "id": "raoecHr50tTk",
        "outputId": "d76ad64e-2572-4219-d65e-e1493da14073"
      },
      "execution_count": null,
      "outputs": [
        {
          "output_type": "stream",
          "name": "stdout",
          "text": [
            "0.935672514619883\n"
          ]
        }
      ]
    },
    {
      "cell_type": "code",
      "source": [
        "#Now for K11\n",
        "classifier_k11 = KNeighborsClassifier(n_neighbors=11, metric='euclidean')\n",
        "classifier_k11.fit(X_train_std, y_train)\n",
        "y_pred_k11=classifier_k11.predict(X_test_std)\n",
        "cm_k11 = confusion_matrix(y_test, y_pred_k11)\n",
        "cm_k11"
      ],
      "metadata": {
        "colab": {
          "base_uri": "https://localhost:8080/"
        },
        "id": "0Tzxq6y-1XQy",
        "outputId": "8c034f9b-4f0e-428e-f45c-35249d09fe70"
      },
      "execution_count": null,
      "outputs": [
        {
          "output_type": "execute_result",
          "data": {
            "text/plain": [
              "array([[104,   3],\n",
              "       [  4,  60]])"
            ]
          },
          "metadata": {},
          "execution_count": 39
        }
      ]
    },
    {
      "cell_type": "code",
      "source": [
        "accuracy_score(y_test, y_pred_k11)\n",
        "accuracy_k11=accuracy_score(y_test, y_pred_k11)\n",
        "print(accuracy_k11)"
      ],
      "metadata": {
        "colab": {
          "base_uri": "https://localhost:8080/"
        },
        "id": "C5RteLgE2Fv0",
        "outputId": "5417e4ad-f83c-4754-df19-abc4e40bf054"
      },
      "execution_count": null,
      "outputs": [
        {
          "output_type": "stream",
          "name": "stdout",
          "text": [
            "0.9590643274853801\n"
          ]
        }
      ]
    },
    {
      "cell_type": "code",
      "source": [
        "#So far our accuracy scores are for K3 and K7 = 0.935672514619883 and for K11=0.9590643274853801.Now for the p(precision), f(f1-score), r(recall) for each KNN\n",
        "from sklearn.metrics import classification_report\n",
        "print(classification_report(y_test, y_pred_k3))"
      ],
      "metadata": {
        "colab": {
          "base_uri": "https://localhost:8080/"
        },
        "id": "H_ovixXj2O_B",
        "outputId": "6daae434-1eb8-45af-c551-9d93f082449a"
      },
      "execution_count": null,
      "outputs": [
        {
          "output_type": "stream",
          "name": "stdout",
          "text": [
            "              precision    recall  f1-score   support\n",
            "\n",
            "           0       0.96      0.93      0.95       107\n",
            "           1       0.90      0.94      0.92        64\n",
            "\n",
            "    accuracy                           0.94       171\n",
            "   macro avg       0.93      0.94      0.93       171\n",
            "weighted avg       0.94      0.94      0.94       171\n",
            "\n"
          ]
        }
      ]
    },
    {
      "cell_type": "code",
      "source": [
        "print(classification_report(y_test, y_pred_k7))"
      ],
      "metadata": {
        "colab": {
          "base_uri": "https://localhost:8080/"
        },
        "id": "XRhXVowQ3aXJ",
        "outputId": "437c7a38-cf95-4291-ad89-87a3ed0c987d"
      },
      "execution_count": null,
      "outputs": [
        {
          "output_type": "stream",
          "name": "stdout",
          "text": [
            "              precision    recall  f1-score   support\n",
            "\n",
            "           0       0.95      0.94      0.95       107\n",
            "           1       0.91      0.92      0.91        64\n",
            "\n",
            "    accuracy                           0.94       171\n",
            "   macro avg       0.93      0.93      0.93       171\n",
            "weighted avg       0.94      0.94      0.94       171\n",
            "\n"
          ]
        }
      ]
    },
    {
      "cell_type": "code",
      "source": [
        "print(classification_report(y_test, y_pred_k11))"
      ],
      "metadata": {
        "colab": {
          "base_uri": "https://localhost:8080/"
        },
        "id": "szwhaxYn3gmG",
        "outputId": "0e6ee02e-2a1f-4252-a37d-efc72f45e68a"
      },
      "execution_count": null,
      "outputs": [
        {
          "output_type": "stream",
          "name": "stdout",
          "text": [
            "              precision    recall  f1-score   support\n",
            "\n",
            "           0       0.96      0.97      0.97       107\n",
            "           1       0.95      0.94      0.94        64\n",
            "\n",
            "    accuracy                           0.96       171\n",
            "   macro avg       0.96      0.95      0.96       171\n",
            "weighted avg       0.96      0.96      0.96       171\n",
            "\n"
          ]
        }
      ]
    },
    {
      "cell_type": "code",
      "source": [
        "#NOW ITS FOR MLP\n",
        "import itertools\n",
        "import os\n",
        "import seaborn as sea\n",
        "\n",
        "from sklearn.neural_network import MLPClassifier\n",
        "from sklearn.metrics import classification_report\n",
        "\n",
        "import matplotlib.pyplot as plt\n",
        "import matplotlib.gridspec as gridspec\n",
        "sea.set_style(\"darkgrid\")\n",
        "\n",
        "df_bcancer.head(10)"
      ],
      "metadata": {
        "colab": {
          "base_uri": "https://localhost:8080/",
          "height": 412
        },
        "id": "H642ygMY3lGM",
        "outputId": "e6e85f43-7d45-4203-a43b-b820517acbee"
      },
      "execution_count": null,
      "outputs": [
        {
          "output_type": "execute_result",
          "data": {
            "text/plain": [
              "         ID  Diagnosis  radius1  texture1  perimeter1   area1  smoothness1  \\\n",
              "0    842302          1    17.99     10.38      122.80  1001.0      0.11840   \n",
              "1    842517          1    20.57     17.77      132.90  1326.0      0.08474   \n",
              "2  84300903          1    19.69     21.25      130.00  1203.0      0.10960   \n",
              "3  84348301          1    11.42     20.38       77.58   386.1      0.14250   \n",
              "4  84358402          1    20.29     14.34      135.10  1297.0      0.10030   \n",
              "5    843786          1    12.45     15.70       82.57   477.1      0.12780   \n",
              "6    844359          1    18.25     19.98      119.60  1040.0      0.09463   \n",
              "7  84458202          1    13.71     20.83       90.20   577.9      0.11890   \n",
              "8    844981          1    13.00     21.82       87.50   519.8      0.12730   \n",
              "9  84501001          1    12.46     24.04       83.97   475.9      0.11860   \n",
              "\n",
              "   compactness1  concavity1  concavepoints1  ...  radius3  texture3  \\\n",
              "0       0.27760     0.30010         0.14710  ...    25.38     17.33   \n",
              "1       0.07864     0.08690         0.07017  ...    24.99     23.41   \n",
              "2       0.15990     0.19740         0.12790  ...    23.57     25.53   \n",
              "3       0.28390     0.24140         0.10520  ...    14.91     26.50   \n",
              "4       0.13280     0.19800         0.10430  ...    22.54     16.67   \n",
              "5       0.17000     0.15780         0.08089  ...    15.47     23.75   \n",
              "6       0.10900     0.11270         0.07400  ...    22.88     27.66   \n",
              "7       0.16450     0.09366         0.05985  ...    17.06     28.14   \n",
              "8       0.19320     0.18590         0.09353  ...    15.49     30.73   \n",
              "9       0.23960     0.22730         0.08543  ...    15.09     40.68   \n",
              "\n",
              "   perimeter3   area3  smoothness3  compactness3  concavity3  concave_points3  \\\n",
              "0      184.60  2019.0       0.1622        0.6656      0.7119           0.2654   \n",
              "1      158.80  1956.0       0.1238        0.1866      0.2416           0.1860   \n",
              "2      152.50  1709.0       0.1444        0.4245      0.4504           0.2430   \n",
              "3       98.87   567.7       0.2098        0.8663      0.6869           0.2575   \n",
              "4      152.20  1575.0       0.1374        0.2050      0.4000           0.1625   \n",
              "5      103.40   741.6       0.1791        0.5249      0.5355           0.1741   \n",
              "6      153.20  1606.0       0.1442        0.2576      0.3784           0.1932   \n",
              "7      110.60   897.0       0.1654        0.3682      0.2678           0.1556   \n",
              "8      106.20   739.3       0.1703        0.5401      0.5390           0.2060   \n",
              "9       97.65   711.4       0.1853        1.0580      1.1050           0.2210   \n",
              "\n",
              "   symmetry3  fractal_dimension3  \n",
              "0     0.4601             0.11890  \n",
              "1     0.2750             0.08902  \n",
              "2     0.3613             0.08758  \n",
              "3     0.6638             0.17300  \n",
              "4     0.2364             0.07678  \n",
              "5     0.3985             0.12440  \n",
              "6     0.3063             0.08368  \n",
              "7     0.3196             0.11510  \n",
              "8     0.4378             0.10720  \n",
              "9     0.4366             0.20750  \n",
              "\n",
              "[10 rows x 32 columns]"
            ],
            "text/html": [
              "\n",
              "  <div id=\"df-415c60f6-1419-40b8-ada3-97862bec5a9a\" class=\"colab-df-container\">\n",
              "    <div>\n",
              "<style scoped>\n",
              "    .dataframe tbody tr th:only-of-type {\n",
              "        vertical-align: middle;\n",
              "    }\n",
              "\n",
              "    .dataframe tbody tr th {\n",
              "        vertical-align: top;\n",
              "    }\n",
              "\n",
              "    .dataframe thead th {\n",
              "        text-align: right;\n",
              "    }\n",
              "</style>\n",
              "<table border=\"1\" class=\"dataframe\">\n",
              "  <thead>\n",
              "    <tr style=\"text-align: right;\">\n",
              "      <th></th>\n",
              "      <th>ID</th>\n",
              "      <th>Diagnosis</th>\n",
              "      <th>radius1</th>\n",
              "      <th>texture1</th>\n",
              "      <th>perimeter1</th>\n",
              "      <th>area1</th>\n",
              "      <th>smoothness1</th>\n",
              "      <th>compactness1</th>\n",
              "      <th>concavity1</th>\n",
              "      <th>concavepoints1</th>\n",
              "      <th>...</th>\n",
              "      <th>radius3</th>\n",
              "      <th>texture3</th>\n",
              "      <th>perimeter3</th>\n",
              "      <th>area3</th>\n",
              "      <th>smoothness3</th>\n",
              "      <th>compactness3</th>\n",
              "      <th>concavity3</th>\n",
              "      <th>concave_points3</th>\n",
              "      <th>symmetry3</th>\n",
              "      <th>fractal_dimension3</th>\n",
              "    </tr>\n",
              "  </thead>\n",
              "  <tbody>\n",
              "    <tr>\n",
              "      <th>0</th>\n",
              "      <td>842302</td>\n",
              "      <td>1</td>\n",
              "      <td>17.99</td>\n",
              "      <td>10.38</td>\n",
              "      <td>122.80</td>\n",
              "      <td>1001.0</td>\n",
              "      <td>0.11840</td>\n",
              "      <td>0.27760</td>\n",
              "      <td>0.30010</td>\n",
              "      <td>0.14710</td>\n",
              "      <td>...</td>\n",
              "      <td>25.38</td>\n",
              "      <td>17.33</td>\n",
              "      <td>184.60</td>\n",
              "      <td>2019.0</td>\n",
              "      <td>0.1622</td>\n",
              "      <td>0.6656</td>\n",
              "      <td>0.7119</td>\n",
              "      <td>0.2654</td>\n",
              "      <td>0.4601</td>\n",
              "      <td>0.11890</td>\n",
              "    </tr>\n",
              "    <tr>\n",
              "      <th>1</th>\n",
              "      <td>842517</td>\n",
              "      <td>1</td>\n",
              "      <td>20.57</td>\n",
              "      <td>17.77</td>\n",
              "      <td>132.90</td>\n",
              "      <td>1326.0</td>\n",
              "      <td>0.08474</td>\n",
              "      <td>0.07864</td>\n",
              "      <td>0.08690</td>\n",
              "      <td>0.07017</td>\n",
              "      <td>...</td>\n",
              "      <td>24.99</td>\n",
              "      <td>23.41</td>\n",
              "      <td>158.80</td>\n",
              "      <td>1956.0</td>\n",
              "      <td>0.1238</td>\n",
              "      <td>0.1866</td>\n",
              "      <td>0.2416</td>\n",
              "      <td>0.1860</td>\n",
              "      <td>0.2750</td>\n",
              "      <td>0.08902</td>\n",
              "    </tr>\n",
              "    <tr>\n",
              "      <th>2</th>\n",
              "      <td>84300903</td>\n",
              "      <td>1</td>\n",
              "      <td>19.69</td>\n",
              "      <td>21.25</td>\n",
              "      <td>130.00</td>\n",
              "      <td>1203.0</td>\n",
              "      <td>0.10960</td>\n",
              "      <td>0.15990</td>\n",
              "      <td>0.19740</td>\n",
              "      <td>0.12790</td>\n",
              "      <td>...</td>\n",
              "      <td>23.57</td>\n",
              "      <td>25.53</td>\n",
              "      <td>152.50</td>\n",
              "      <td>1709.0</td>\n",
              "      <td>0.1444</td>\n",
              "      <td>0.4245</td>\n",
              "      <td>0.4504</td>\n",
              "      <td>0.2430</td>\n",
              "      <td>0.3613</td>\n",
              "      <td>0.08758</td>\n",
              "    </tr>\n",
              "    <tr>\n",
              "      <th>3</th>\n",
              "      <td>84348301</td>\n",
              "      <td>1</td>\n",
              "      <td>11.42</td>\n",
              "      <td>20.38</td>\n",
              "      <td>77.58</td>\n",
              "      <td>386.1</td>\n",
              "      <td>0.14250</td>\n",
              "      <td>0.28390</td>\n",
              "      <td>0.24140</td>\n",
              "      <td>0.10520</td>\n",
              "      <td>...</td>\n",
              "      <td>14.91</td>\n",
              "      <td>26.50</td>\n",
              "      <td>98.87</td>\n",
              "      <td>567.7</td>\n",
              "      <td>0.2098</td>\n",
              "      <td>0.8663</td>\n",
              "      <td>0.6869</td>\n",
              "      <td>0.2575</td>\n",
              "      <td>0.6638</td>\n",
              "      <td>0.17300</td>\n",
              "    </tr>\n",
              "    <tr>\n",
              "      <th>4</th>\n",
              "      <td>84358402</td>\n",
              "      <td>1</td>\n",
              "      <td>20.29</td>\n",
              "      <td>14.34</td>\n",
              "      <td>135.10</td>\n",
              "      <td>1297.0</td>\n",
              "      <td>0.10030</td>\n",
              "      <td>0.13280</td>\n",
              "      <td>0.19800</td>\n",
              "      <td>0.10430</td>\n",
              "      <td>...</td>\n",
              "      <td>22.54</td>\n",
              "      <td>16.67</td>\n",
              "      <td>152.20</td>\n",
              "      <td>1575.0</td>\n",
              "      <td>0.1374</td>\n",
              "      <td>0.2050</td>\n",
              "      <td>0.4000</td>\n",
              "      <td>0.1625</td>\n",
              "      <td>0.2364</td>\n",
              "      <td>0.07678</td>\n",
              "    </tr>\n",
              "    <tr>\n",
              "      <th>5</th>\n",
              "      <td>843786</td>\n",
              "      <td>1</td>\n",
              "      <td>12.45</td>\n",
              "      <td>15.70</td>\n",
              "      <td>82.57</td>\n",
              "      <td>477.1</td>\n",
              "      <td>0.12780</td>\n",
              "      <td>0.17000</td>\n",
              "      <td>0.15780</td>\n",
              "      <td>0.08089</td>\n",
              "      <td>...</td>\n",
              "      <td>15.47</td>\n",
              "      <td>23.75</td>\n",
              "      <td>103.40</td>\n",
              "      <td>741.6</td>\n",
              "      <td>0.1791</td>\n",
              "      <td>0.5249</td>\n",
              "      <td>0.5355</td>\n",
              "      <td>0.1741</td>\n",
              "      <td>0.3985</td>\n",
              "      <td>0.12440</td>\n",
              "    </tr>\n",
              "    <tr>\n",
              "      <th>6</th>\n",
              "      <td>844359</td>\n",
              "      <td>1</td>\n",
              "      <td>18.25</td>\n",
              "      <td>19.98</td>\n",
              "      <td>119.60</td>\n",
              "      <td>1040.0</td>\n",
              "      <td>0.09463</td>\n",
              "      <td>0.10900</td>\n",
              "      <td>0.11270</td>\n",
              "      <td>0.07400</td>\n",
              "      <td>...</td>\n",
              "      <td>22.88</td>\n",
              "      <td>27.66</td>\n",
              "      <td>153.20</td>\n",
              "      <td>1606.0</td>\n",
              "      <td>0.1442</td>\n",
              "      <td>0.2576</td>\n",
              "      <td>0.3784</td>\n",
              "      <td>0.1932</td>\n",
              "      <td>0.3063</td>\n",
              "      <td>0.08368</td>\n",
              "    </tr>\n",
              "    <tr>\n",
              "      <th>7</th>\n",
              "      <td>84458202</td>\n",
              "      <td>1</td>\n",
              "      <td>13.71</td>\n",
              "      <td>20.83</td>\n",
              "      <td>90.20</td>\n",
              "      <td>577.9</td>\n",
              "      <td>0.11890</td>\n",
              "      <td>0.16450</td>\n",
              "      <td>0.09366</td>\n",
              "      <td>0.05985</td>\n",
              "      <td>...</td>\n",
              "      <td>17.06</td>\n",
              "      <td>28.14</td>\n",
              "      <td>110.60</td>\n",
              "      <td>897.0</td>\n",
              "      <td>0.1654</td>\n",
              "      <td>0.3682</td>\n",
              "      <td>0.2678</td>\n",
              "      <td>0.1556</td>\n",
              "      <td>0.3196</td>\n",
              "      <td>0.11510</td>\n",
              "    </tr>\n",
              "    <tr>\n",
              "      <th>8</th>\n",
              "      <td>844981</td>\n",
              "      <td>1</td>\n",
              "      <td>13.00</td>\n",
              "      <td>21.82</td>\n",
              "      <td>87.50</td>\n",
              "      <td>519.8</td>\n",
              "      <td>0.12730</td>\n",
              "      <td>0.19320</td>\n",
              "      <td>0.18590</td>\n",
              "      <td>0.09353</td>\n",
              "      <td>...</td>\n",
              "      <td>15.49</td>\n",
              "      <td>30.73</td>\n",
              "      <td>106.20</td>\n",
              "      <td>739.3</td>\n",
              "      <td>0.1703</td>\n",
              "      <td>0.5401</td>\n",
              "      <td>0.5390</td>\n",
              "      <td>0.2060</td>\n",
              "      <td>0.4378</td>\n",
              "      <td>0.10720</td>\n",
              "    </tr>\n",
              "    <tr>\n",
              "      <th>9</th>\n",
              "      <td>84501001</td>\n",
              "      <td>1</td>\n",
              "      <td>12.46</td>\n",
              "      <td>24.04</td>\n",
              "      <td>83.97</td>\n",
              "      <td>475.9</td>\n",
              "      <td>0.11860</td>\n",
              "      <td>0.23960</td>\n",
              "      <td>0.22730</td>\n",
              "      <td>0.08543</td>\n",
              "      <td>...</td>\n",
              "      <td>15.09</td>\n",
              "      <td>40.68</td>\n",
              "      <td>97.65</td>\n",
              "      <td>711.4</td>\n",
              "      <td>0.1853</td>\n",
              "      <td>1.0580</td>\n",
              "      <td>1.1050</td>\n",
              "      <td>0.2210</td>\n",
              "      <td>0.4366</td>\n",
              "      <td>0.20750</td>\n",
              "    </tr>\n",
              "  </tbody>\n",
              "</table>\n",
              "<p>10 rows × 32 columns</p>\n",
              "</div>\n",
              "    <div class=\"colab-df-buttons\">\n",
              "\n",
              "  <div class=\"colab-df-container\">\n",
              "    <button class=\"colab-df-convert\" onclick=\"convertToInteractive('df-415c60f6-1419-40b8-ada3-97862bec5a9a')\"\n",
              "            title=\"Convert this dataframe to an interactive table.\"\n",
              "            style=\"display:none;\">\n",
              "\n",
              "  <svg xmlns=\"http://www.w3.org/2000/svg\" height=\"24px\" viewBox=\"0 -960 960 960\">\n",
              "    <path d=\"M120-120v-720h720v720H120Zm60-500h600v-160H180v160Zm220 220h160v-160H400v160Zm0 220h160v-160H400v160ZM180-400h160v-160H180v160Zm440 0h160v-160H620v160ZM180-180h160v-160H180v160Zm440 0h160v-160H620v160Z\"/>\n",
              "  </svg>\n",
              "    </button>\n",
              "\n",
              "  <style>\n",
              "    .colab-df-container {\n",
              "      display:flex;\n",
              "      gap: 12px;\n",
              "    }\n",
              "\n",
              "    .colab-df-convert {\n",
              "      background-color: #E8F0FE;\n",
              "      border: none;\n",
              "      border-radius: 50%;\n",
              "      cursor: pointer;\n",
              "      display: none;\n",
              "      fill: #1967D2;\n",
              "      height: 32px;\n",
              "      padding: 0 0 0 0;\n",
              "      width: 32px;\n",
              "    }\n",
              "\n",
              "    .colab-df-convert:hover {\n",
              "      background-color: #E2EBFA;\n",
              "      box-shadow: 0px 1px 2px rgba(60, 64, 67, 0.3), 0px 1px 3px 1px rgba(60, 64, 67, 0.15);\n",
              "      fill: #174EA6;\n",
              "    }\n",
              "\n",
              "    .colab-df-buttons div {\n",
              "      margin-bottom: 4px;\n",
              "    }\n",
              "\n",
              "    [theme=dark] .colab-df-convert {\n",
              "      background-color: #3B4455;\n",
              "      fill: #D2E3FC;\n",
              "    }\n",
              "\n",
              "    [theme=dark] .colab-df-convert:hover {\n",
              "      background-color: #434B5C;\n",
              "      box-shadow: 0px 1px 3px 1px rgba(0, 0, 0, 0.15);\n",
              "      filter: drop-shadow(0px 1px 2px rgba(0, 0, 0, 0.3));\n",
              "      fill: #FFFFFF;\n",
              "    }\n",
              "  </style>\n",
              "\n",
              "    <script>\n",
              "      const buttonEl =\n",
              "        document.querySelector('#df-415c60f6-1419-40b8-ada3-97862bec5a9a button.colab-df-convert');\n",
              "      buttonEl.style.display =\n",
              "        google.colab.kernel.accessAllowed ? 'block' : 'none';\n",
              "\n",
              "      async function convertToInteractive(key) {\n",
              "        const element = document.querySelector('#df-415c60f6-1419-40b8-ada3-97862bec5a9a');\n",
              "        const dataTable =\n",
              "          await google.colab.kernel.invokeFunction('convertToInteractive',\n",
              "                                                    [key], {});\n",
              "        if (!dataTable) return;\n",
              "\n",
              "        const docLinkHtml = 'Like what you see? Visit the ' +\n",
              "          '<a target=\"_blank\" href=https://colab.research.google.com/notebooks/data_table.ipynb>data table notebook</a>'\n",
              "          + ' to learn more about interactive tables.';\n",
              "        element.innerHTML = '';\n",
              "        dataTable['output_type'] = 'display_data';\n",
              "        await google.colab.output.renderOutput(dataTable, element);\n",
              "        const docLink = document.createElement('div');\n",
              "        docLink.innerHTML = docLinkHtml;\n",
              "        element.appendChild(docLink);\n",
              "      }\n",
              "    </script>\n",
              "  </div>\n",
              "\n",
              "\n",
              "<div id=\"df-b56d0d36-e124-4824-8141-dadbe42557ec\">\n",
              "  <button class=\"colab-df-quickchart\" onclick=\"quickchart('df-b56d0d36-e124-4824-8141-dadbe42557ec')\"\n",
              "            title=\"Suggest charts\"\n",
              "            style=\"display:none;\">\n",
              "\n",
              "<svg xmlns=\"http://www.w3.org/2000/svg\" height=\"24px\"viewBox=\"0 0 24 24\"\n",
              "     width=\"24px\">\n",
              "    <g>\n",
              "        <path d=\"M19 3H5c-1.1 0-2 .9-2 2v14c0 1.1.9 2 2 2h14c1.1 0 2-.9 2-2V5c0-1.1-.9-2-2-2zM9 17H7v-7h2v7zm4 0h-2V7h2v10zm4 0h-2v-4h2v4z\"/>\n",
              "    </g>\n",
              "</svg>\n",
              "  </button>\n",
              "\n",
              "<style>\n",
              "  .colab-df-quickchart {\n",
              "      --bg-color: #E8F0FE;\n",
              "      --fill-color: #1967D2;\n",
              "      --hover-bg-color: #E2EBFA;\n",
              "      --hover-fill-color: #174EA6;\n",
              "      --disabled-fill-color: #AAA;\n",
              "      --disabled-bg-color: #DDD;\n",
              "  }\n",
              "\n",
              "  [theme=dark] .colab-df-quickchart {\n",
              "      --bg-color: #3B4455;\n",
              "      --fill-color: #D2E3FC;\n",
              "      --hover-bg-color: #434B5C;\n",
              "      --hover-fill-color: #FFFFFF;\n",
              "      --disabled-bg-color: #3B4455;\n",
              "      --disabled-fill-color: #666;\n",
              "  }\n",
              "\n",
              "  .colab-df-quickchart {\n",
              "    background-color: var(--bg-color);\n",
              "    border: none;\n",
              "    border-radius: 50%;\n",
              "    cursor: pointer;\n",
              "    display: none;\n",
              "    fill: var(--fill-color);\n",
              "    height: 32px;\n",
              "    padding: 0;\n",
              "    width: 32px;\n",
              "  }\n",
              "\n",
              "  .colab-df-quickchart:hover {\n",
              "    background-color: var(--hover-bg-color);\n",
              "    box-shadow: 0 1px 2px rgba(60, 64, 67, 0.3), 0 1px 3px 1px rgba(60, 64, 67, 0.15);\n",
              "    fill: var(--button-hover-fill-color);\n",
              "  }\n",
              "\n",
              "  .colab-df-quickchart-complete:disabled,\n",
              "  .colab-df-quickchart-complete:disabled:hover {\n",
              "    background-color: var(--disabled-bg-color);\n",
              "    fill: var(--disabled-fill-color);\n",
              "    box-shadow: none;\n",
              "  }\n",
              "\n",
              "  .colab-df-spinner {\n",
              "    border: 2px solid var(--fill-color);\n",
              "    border-color: transparent;\n",
              "    border-bottom-color: var(--fill-color);\n",
              "    animation:\n",
              "      spin 1s steps(1) infinite;\n",
              "  }\n",
              "\n",
              "  @keyframes spin {\n",
              "    0% {\n",
              "      border-color: transparent;\n",
              "      border-bottom-color: var(--fill-color);\n",
              "      border-left-color: var(--fill-color);\n",
              "    }\n",
              "    20% {\n",
              "      border-color: transparent;\n",
              "      border-left-color: var(--fill-color);\n",
              "      border-top-color: var(--fill-color);\n",
              "    }\n",
              "    30% {\n",
              "      border-color: transparent;\n",
              "      border-left-color: var(--fill-color);\n",
              "      border-top-color: var(--fill-color);\n",
              "      border-right-color: var(--fill-color);\n",
              "    }\n",
              "    40% {\n",
              "      border-color: transparent;\n",
              "      border-right-color: var(--fill-color);\n",
              "      border-top-color: var(--fill-color);\n",
              "    }\n",
              "    60% {\n",
              "      border-color: transparent;\n",
              "      border-right-color: var(--fill-color);\n",
              "    }\n",
              "    80% {\n",
              "      border-color: transparent;\n",
              "      border-right-color: var(--fill-color);\n",
              "      border-bottom-color: var(--fill-color);\n",
              "    }\n",
              "    90% {\n",
              "      border-color: transparent;\n",
              "      border-bottom-color: var(--fill-color);\n",
              "    }\n",
              "  }\n",
              "</style>\n",
              "\n",
              "  <script>\n",
              "    async function quickchart(key) {\n",
              "      const quickchartButtonEl =\n",
              "        document.querySelector('#' + key + ' button');\n",
              "      quickchartButtonEl.disabled = true;  // To prevent multiple clicks.\n",
              "      quickchartButtonEl.classList.add('colab-df-spinner');\n",
              "      try {\n",
              "        const charts = await google.colab.kernel.invokeFunction(\n",
              "            'suggestCharts', [key], {});\n",
              "      } catch (error) {\n",
              "        console.error('Error during call to suggestCharts:', error);\n",
              "      }\n",
              "      quickchartButtonEl.classList.remove('colab-df-spinner');\n",
              "      quickchartButtonEl.classList.add('colab-df-quickchart-complete');\n",
              "    }\n",
              "    (() => {\n",
              "      let quickchartButtonEl =\n",
              "        document.querySelector('#df-b56d0d36-e124-4824-8141-dadbe42557ec button');\n",
              "      quickchartButtonEl.style.display =\n",
              "        google.colab.kernel.accessAllowed ? 'block' : 'none';\n",
              "    })();\n",
              "  </script>\n",
              "</div>\n",
              "\n",
              "    </div>\n",
              "  </div>\n"
            ]
          },
          "metadata": {},
          "execution_count": 46
        }
      ]
    },
    {
      "cell_type": "code",
      "source": [
        "dataCancer_X = df_bcancer.loc[:, df_bcancer.columns != \"Diagnosis\"]\n",
        "dataCancer_Y = df_bcancer[[\"Diagnosis\"]]\n",
        "\n",
        "print(\"data_X info:\\n\")\n",
        "dataCancer_X.info()\n",
        "print(\"\\ndata_Y info:\\n\")\n",
        "dataCancer_Y.info()"
      ],
      "metadata": {
        "colab": {
          "base_uri": "https://localhost:8080/"
        },
        "id": "qboTaSnMBFCz",
        "outputId": "231faddd-a2c9-4f70-ae4a-34f15ed4ae8e"
      },
      "execution_count": null,
      "outputs": [
        {
          "output_type": "stream",
          "name": "stdout",
          "text": [
            "data_X info:\n",
            "\n",
            "<class 'pandas.core.frame.DataFrame'>\n",
            "RangeIndex: 569 entries, 0 to 568\n",
            "Data columns (total 31 columns):\n",
            " #   Column              Non-Null Count  Dtype  \n",
            "---  ------              --------------  -----  \n",
            " 0   ID                  569 non-null    int64  \n",
            " 1   radius1             569 non-null    float64\n",
            " 2   texture1            569 non-null    float64\n",
            " 3   perimeter1          569 non-null    float64\n",
            " 4   area1               569 non-null    float64\n",
            " 5   smoothness1         569 non-null    float64\n",
            " 6   compactness1        569 non-null    float64\n",
            " 7   concavity1          569 non-null    float64\n",
            " 8   concavepoints1      569 non-null    float64\n",
            " 9   symmetry1           569 non-null    float64\n",
            " 10  fractal_dimension1  569 non-null    float64\n",
            " 11  radius2             569 non-null    float64\n",
            " 12  texture2            569 non-null    float64\n",
            " 13  perimeter2          569 non-null    float64\n",
            " 14  area2               569 non-null    float64\n",
            " 15  smoothness2         569 non-null    float64\n",
            " 16  compactness2        569 non-null    float64\n",
            " 17  concavity2          569 non-null    float64\n",
            " 18  concave_points2     569 non-null    float64\n",
            " 19  symmetry2           569 non-null    float64\n",
            " 20  fractal_dimension2  569 non-null    float64\n",
            " 21  radius3             569 non-null    float64\n",
            " 22  texture3            569 non-null    float64\n",
            " 23  perimeter3          569 non-null    float64\n",
            " 24  area3               569 non-null    float64\n",
            " 25  smoothness3         569 non-null    float64\n",
            " 26  compactness3        569 non-null    float64\n",
            " 27  concavity3          569 non-null    float64\n",
            " 28  concave_points3     569 non-null    float64\n",
            " 29  symmetry3           569 non-null    float64\n",
            " 30  fractal_dimension3  569 non-null    float64\n",
            "dtypes: float64(30), int64(1)\n",
            "memory usage: 137.9 KB\n",
            "\n",
            "data_Y info:\n",
            "\n",
            "<class 'pandas.core.frame.DataFrame'>\n",
            "RangeIndex: 569 entries, 0 to 568\n",
            "Data columns (total 1 columns):\n",
            " #   Column     Non-Null Count  Dtype\n",
            "---  ------     --------------  -----\n",
            " 0   Diagnosis  569 non-null    int64\n",
            "dtypes: int64(1)\n",
            "memory usage: 4.6 KB\n"
          ]
        }
      ]
    },
    {
      "cell_type": "code",
      "source": [
        "#As we can see our range index is from 0 to 568.Also as we can see none of the contents has \"null\" var in it.Data loaded correctly.\n",
        "dataCancer_Y[\"Diagnosis\"].value_counts()"
      ],
      "metadata": {
        "colab": {
          "base_uri": "https://localhost:8080/"
        },
        "id": "-eme6jiAQ0zI",
        "outputId": "7767bc60-92fc-4a32-9539-d36ca02708cd"
      },
      "execution_count": null,
      "outputs": [
        {
          "output_type": "execute_result",
          "data": {
            "text/plain": [
              "0    357\n",
              "1    212\n",
              "Name: Diagnosis, dtype: int64"
            ]
          },
          "metadata": {},
          "execution_count": 51
        }
      ]
    },
    {
      "cell_type": "code",
      "source": [
        "train_X, test_X, train_Y, test_Y = train_test_split(dataCancer_X, dataCancer_Y, test_size=0.2, stratify=dataCancer_Y, random_state=0)\n",
        "#reminder that x is independent and y is dependent variable.This time we will use test data for %20 part of it.%80 will be for training.We ensure stratify also uses dataCancer_Y var for overall distribution.As usual\n",
        "#random state =0 makes sure we get exact same data split.\n",
        "\n",
        "train_X.reset_index(drop=True, inplace=True);\n",
        "test_X.reset_index(drop=True, inplace=True);\n",
        "train_Y.reset_index(drop=True, inplace=True);\n",
        "test_Y.reset_index(drop=True, inplace=True);"
      ],
      "metadata": {
        "id": "-HXqJ-ZnR8fo"
      },
      "execution_count": null,
      "outputs": []
    },
    {
      "cell_type": "code",
      "source": [
        "from sklearn.preprocessing import StandardScaler\n",
        "feature_names = train_X.columns\n",
        "\n",
        "scaler = StandardScaler()\n",
        "#here our \"scaler\" var fitted for train X whose is learning its properties.\n",
        "scaler.fit(train_X)\n",
        "\n",
        "train_X = scaler.transform(train_X)\n",
        "train_X = pd.DataFrame(train_X, columns = feature_names)\n",
        "#The data we standartized converted back into its dataframe\n",
        "\n",
        "test_X = scaler.transform(test_X)\n",
        "test_X = pd.DataFrame(test_X, columns = feature_names)"
      ],
      "metadata": {
        "id": "IqJ4R5u8S171"
      },
      "execution_count": null,
      "outputs": []
    },
    {
      "cell_type": "code",
      "source": [
        "#This is for one hidden layer with 32 neurons\n",
        "clf_for_1 = MLPClassifier(solver=\"adam\", max_iter=5000, activation = \"relu\",\n",
        "                          hidden_layer_sizes = (32, ),\n",
        "                          alpha = 0.01,\n",
        "                          batch_size = 64,\n",
        "                          learning_rate_init = 0.001,\n",
        "                          random_state=2)\n",
        "clf_for_1.fit(train_X, train_Y.values.ravel());\n",
        "#Note:\"adam\" is optimization algorithm.Uses(combines) momentum and root mean square propagation"
      ],
      "metadata": {
        "id": "1VISjdbQV2k4"
      },
      "execution_count": null,
      "outputs": []
    },
    {
      "cell_type": "code",
      "source": [
        "print(classification_report(test_Y, clf_for_1.predict(test_X),\n",
        "                            digits = 4,\n",
        "                            target_names = [\"Bening\", \"Malignant\"]))"
      ],
      "metadata": {
        "colab": {
          "base_uri": "https://localhost:8080/"
        },
        "id": "tVP4rDuZYL1W",
        "outputId": "36d130e0-847a-402c-ad01-35175af5c39c"
      },
      "execution_count": null,
      "outputs": [
        {
          "output_type": "stream",
          "name": "stdout",
          "text": [
            "              precision    recall  f1-score   support\n",
            "\n",
            "      Bening     0.9589    0.9722    0.9655        72\n",
            "   Malignant     0.9512    0.9286    0.9398        42\n",
            "\n",
            "    accuracy                         0.9561       114\n",
            "   macro avg     0.9551    0.9504    0.9526       114\n",
            "weighted avg     0.9561    0.9561    0.9560       114\n",
            "\n"
          ]
        }
      ]
    },
    {
      "cell_type": "code",
      "source": [
        "#This is for two hidden layer with 32 neurons\n",
        "clf_for_2 = MLPClassifier(solver=\"adam\", max_iter=5000, activation=\"relu\",\n",
        "                          hidden_layer_sizes = (32, 32),\n",
        "                          alpha = 0.01,\n",
        "                          batch_size = 64,\n",
        "                          learning_rate_init = 0.001,\n",
        "                          random_state = 2)\n",
        "clf_for_2.fit(train_X, train_Y.values.ravel());"
      ],
      "metadata": {
        "id": "A2vg20plY-UQ"
      },
      "execution_count": null,
      "outputs": []
    },
    {
      "cell_type": "code",
      "source": [
        "print(classification_report(test_Y, clf_for_2.predict(test_X),\n",
        "                            digits = 4,\n",
        "                            target_names = [\"Bening\", \"Malignant\"]))"
      ],
      "metadata": {
        "colab": {
          "base_uri": "https://localhost:8080/"
        },
        "id": "9K7R86VPZa5E",
        "outputId": "3c263e68-68b8-4c17-90e0-d694504b0ad6"
      },
      "execution_count": null,
      "outputs": [
        {
          "output_type": "stream",
          "name": "stdout",
          "text": [
            "              precision    recall  f1-score   support\n",
            "\n",
            "      Bening     0.9459    0.9722    0.9589        72\n",
            "   Malignant     0.9500    0.9048    0.9268        42\n",
            "\n",
            "    accuracy                         0.9474       114\n",
            "   macro avg     0.9480    0.9385    0.9429       114\n",
            "weighted avg     0.9474    0.9474    0.9471       114\n",
            "\n"
          ]
        }
      ]
    },
    {
      "cell_type": "code",
      "source": [
        "#This is for three hidden layer with 32 neurons\n",
        "clf_for_3 = MLPClassifier(solver=\"adam\", max_iter=5000, activation=\"relu\",\n",
        "                          hidden_layer_sizes = (32, 32, 32),\n",
        "                          alpha = 0.01,\n",
        "                          batch_size = 64,\n",
        "                          learning_rate_init=0.001,\n",
        "                          random_state = 2)\n",
        "clf_for_3.fit(train_X, train_Y.values.ravel());"
      ],
      "metadata": {
        "id": "inEa_x2GZ34I"
      },
      "execution_count": null,
      "outputs": []
    },
    {
      "cell_type": "code",
      "source": [
        "print(classification_report(test_Y, clf_for_3.predict(test_X),\n",
        "                            digits= 4,\n",
        "                            target_names = [\"Bening\", \"Malignant\"]))"
      ],
      "metadata": {
        "colab": {
          "base_uri": "https://localhost:8080/"
        },
        "id": "4z0L1oRMaRdU",
        "outputId": "b30cb993-e76e-403e-a63a-3d5f9c0ea1c2"
      },
      "execution_count": null,
      "outputs": [
        {
          "output_type": "stream",
          "name": "stdout",
          "text": [
            "              precision    recall  f1-score   support\n",
            "\n",
            "      Bening     0.9722    0.9722    0.9722        72\n",
            "   Malignant     0.9524    0.9524    0.9524        42\n",
            "\n",
            "    accuracy                         0.9649       114\n",
            "   macro avg     0.9623    0.9623    0.9623       114\n",
            "weighted avg     0.9649    0.9649    0.9649       114\n",
            "\n"
          ]
        }
      ]
    },
    {
      "cell_type": "code",
      "source": [
        "#NAIVE BAYES ALGORITHM WITH DEFAULT PARAMETERS\n",
        "print(df_bcancer)"
      ],
      "metadata": {
        "colab": {
          "base_uri": "https://localhost:8080/"
        },
        "id": "Ad4Q92SdaduF",
        "outputId": "05867b15-9d8c-4471-d566-c4fcea50c122"
      },
      "execution_count": null,
      "outputs": [
        {
          "output_type": "stream",
          "name": "stdout",
          "text": [
            "           ID  Diagnosis  radius1  texture1  perimeter1   area1  smoothness1  \\\n",
            "0      842302          1    17.99     10.38      122.80  1001.0      0.11840   \n",
            "1      842517          1    20.57     17.77      132.90  1326.0      0.08474   \n",
            "2    84300903          1    19.69     21.25      130.00  1203.0      0.10960   \n",
            "3    84348301          1    11.42     20.38       77.58   386.1      0.14250   \n",
            "4    84358402          1    20.29     14.34      135.10  1297.0      0.10030   \n",
            "..        ...        ...      ...       ...         ...     ...          ...   \n",
            "564    926424          1    21.56     22.39      142.00  1479.0      0.11100   \n",
            "565    926682          1    20.13     28.25      131.20  1261.0      0.09780   \n",
            "566    926954          1    16.60     28.08      108.30   858.1      0.08455   \n",
            "567    927241          1    20.60     29.33      140.10  1265.0      0.11780   \n",
            "568     92751          0     7.76     24.54       47.92   181.0      0.05263   \n",
            "\n",
            "     compactness1  concavity1  concavepoints1  ...  radius3  texture3  \\\n",
            "0         0.27760     0.30010         0.14710  ...   25.380     17.33   \n",
            "1         0.07864     0.08690         0.07017  ...   24.990     23.41   \n",
            "2         0.15990     0.19740         0.12790  ...   23.570     25.53   \n",
            "3         0.28390     0.24140         0.10520  ...   14.910     26.50   \n",
            "4         0.13280     0.19800         0.10430  ...   22.540     16.67   \n",
            "..            ...         ...             ...  ...      ...       ...   \n",
            "564       0.11590     0.24390         0.13890  ...   25.450     26.40   \n",
            "565       0.10340     0.14400         0.09791  ...   23.690     38.25   \n",
            "566       0.10230     0.09251         0.05302  ...   18.980     34.12   \n",
            "567       0.27700     0.35140         0.15200  ...   25.740     39.42   \n",
            "568       0.04362     0.00000         0.00000  ...    9.456     30.37   \n",
            "\n",
            "     perimeter3   area3  smoothness3  compactness3  concavity3  \\\n",
            "0        184.60  2019.0      0.16220       0.66560      0.7119   \n",
            "1        158.80  1956.0      0.12380       0.18660      0.2416   \n",
            "2        152.50  1709.0      0.14440       0.42450      0.4504   \n",
            "3         98.87   567.7      0.20980       0.86630      0.6869   \n",
            "4        152.20  1575.0      0.13740       0.20500      0.4000   \n",
            "..          ...     ...          ...           ...         ...   \n",
            "564      166.10  2027.0      0.14100       0.21130      0.4107   \n",
            "565      155.00  1731.0      0.11660       0.19220      0.3215   \n",
            "566      126.70  1124.0      0.11390       0.30940      0.3403   \n",
            "567      184.60  1821.0      0.16500       0.86810      0.9387   \n",
            "568       59.16   268.6      0.08996       0.06444      0.0000   \n",
            "\n",
            "     concave_points3  symmetry3  fractal_dimension3  \n",
            "0             0.2654     0.4601             0.11890  \n",
            "1             0.1860     0.2750             0.08902  \n",
            "2             0.2430     0.3613             0.08758  \n",
            "3             0.2575     0.6638             0.17300  \n",
            "4             0.1625     0.2364             0.07678  \n",
            "..               ...        ...                 ...  \n",
            "564           0.2216     0.2060             0.07115  \n",
            "565           0.1628     0.2572             0.06637  \n",
            "566           0.1418     0.2218             0.07820  \n",
            "567           0.2650     0.4087             0.12400  \n",
            "568           0.0000     0.2871             0.07039  \n",
            "\n",
            "[569 rows x 32 columns]\n"
          ]
        }
      ]
    },
    {
      "cell_type": "code",
      "source": [
        "X = df_bcancer.iloc[:, 2:].values\n",
        "y = df_bcancer.iloc[:, 1].values"
      ],
      "metadata": {
        "id": "Se9u5iZpaztM"
      },
      "execution_count": null,
      "outputs": []
    },
    {
      "cell_type": "code",
      "source": [
        "#here we split the data test size as %25 of it and %75 of it will go to traininw set\n",
        "from sklearn.model_selection import train_test_split\n",
        "X_train, X_test, y_train, y_test = train_test_split(X, y, test_size = 0.25, random_state=0)"
      ],
      "metadata": {
        "id": "PnHnBW9DbWxD"
      },
      "execution_count": null,
      "outputs": []
    },
    {
      "cell_type": "code",
      "source": [
        "#Scaling part\n",
        "from sklearn.preprocessing import StandardScaler\n",
        "sc = StandardScaler()\n",
        "X_train = sc.fit_transform(X_train)\n",
        "X_test = sc.transform(X_test)"
      ],
      "metadata": {
        "id": "uDsXY08lbrlN"
      },
      "execution_count": null,
      "outputs": []
    },
    {
      "cell_type": "code",
      "source": [
        "#here we use naive bayes\n",
        "#from sklearn.naive_bayes import GaussianNB\n",
        "#classifier = GaussianNB()\n",
        "#classifier.fit(X_train, y_train)\n",
        "print(\"X_train shape:\", X_train.shape)\n",
        "print(\"y_train shape:\", y_train.shape)\n",
        "print(\"X_train type:\", type(X_train))\n",
        "print(\"y_train type:\", type(y_train))\n",
        "print(\"Any NaN in X_train:\", np.isnan(X_train).any())\n",
        "print(\"Any NaN in y_train:\", np.isnan(y_train).any())\n"
      ],
      "metadata": {
        "colab": {
          "base_uri": "https://localhost:8080/"
        },
        "id": "pQU7KR_Cb55I",
        "outputId": "d9482c17-3d35-46ca-cd3d-5ebd33d8923d"
      },
      "execution_count": null,
      "outputs": [
        {
          "output_type": "stream",
          "name": "stdout",
          "text": [
            "X_train shape: (426, 30)\n",
            "y_train shape: (426,)\n",
            "X_train type: <class 'numpy.ndarray'>\n",
            "y_train type: <class 'numpy.ndarray'>\n",
            "Any NaN in X_train: False\n",
            "Any NaN in y_train: False\n"
          ]
        }
      ]
    },
    {
      "cell_type": "code",
      "source": [
        "from sklearn.naive_bayes import GaussianNB\n",
        "classifier = GaussianNB()\n",
        "classifier.fit(X_train, y_train)"
      ],
      "metadata": {
        "colab": {
          "base_uri": "https://localhost:8080/",
          "height": 75
        },
        "id": "CYJAyR2bcJG1",
        "outputId": "e75e70ec-83dd-4ec9-c900-edeb22351337"
      },
      "execution_count": null,
      "outputs": [
        {
          "output_type": "execute_result",
          "data": {
            "text/plain": [
              "GaussianNB()"
            ],
            "text/html": [
              "<style>#sk-container-id-1 {color: black;background-color: white;}#sk-container-id-1 pre{padding: 0;}#sk-container-id-1 div.sk-toggleable {background-color: white;}#sk-container-id-1 label.sk-toggleable__label {cursor: pointer;display: block;width: 100%;margin-bottom: 0;padding: 0.3em;box-sizing: border-box;text-align: center;}#sk-container-id-1 label.sk-toggleable__label-arrow:before {content: \"▸\";float: left;margin-right: 0.25em;color: #696969;}#sk-container-id-1 label.sk-toggleable__label-arrow:hover:before {color: black;}#sk-container-id-1 div.sk-estimator:hover label.sk-toggleable__label-arrow:before {color: black;}#sk-container-id-1 div.sk-toggleable__content {max-height: 0;max-width: 0;overflow: hidden;text-align: left;background-color: #f0f8ff;}#sk-container-id-1 div.sk-toggleable__content pre {margin: 0.2em;color: black;border-radius: 0.25em;background-color: #f0f8ff;}#sk-container-id-1 input.sk-toggleable__control:checked~div.sk-toggleable__content {max-height: 200px;max-width: 100%;overflow: auto;}#sk-container-id-1 input.sk-toggleable__control:checked~label.sk-toggleable__label-arrow:before {content: \"▾\";}#sk-container-id-1 div.sk-estimator input.sk-toggleable__control:checked~label.sk-toggleable__label {background-color: #d4ebff;}#sk-container-id-1 div.sk-label input.sk-toggleable__control:checked~label.sk-toggleable__label {background-color: #d4ebff;}#sk-container-id-1 input.sk-hidden--visually {border: 0;clip: rect(1px 1px 1px 1px);clip: rect(1px, 1px, 1px, 1px);height: 1px;margin: -1px;overflow: hidden;padding: 0;position: absolute;width: 1px;}#sk-container-id-1 div.sk-estimator {font-family: monospace;background-color: #f0f8ff;border: 1px dotted black;border-radius: 0.25em;box-sizing: border-box;margin-bottom: 0.5em;}#sk-container-id-1 div.sk-estimator:hover {background-color: #d4ebff;}#sk-container-id-1 div.sk-parallel-item::after {content: \"\";width: 100%;border-bottom: 1px solid gray;flex-grow: 1;}#sk-container-id-1 div.sk-label:hover label.sk-toggleable__label {background-color: #d4ebff;}#sk-container-id-1 div.sk-serial::before {content: \"\";position: absolute;border-left: 1px solid gray;box-sizing: border-box;top: 0;bottom: 0;left: 50%;z-index: 0;}#sk-container-id-1 div.sk-serial {display: flex;flex-direction: column;align-items: center;background-color: white;padding-right: 0.2em;padding-left: 0.2em;position: relative;}#sk-container-id-1 div.sk-item {position: relative;z-index: 1;}#sk-container-id-1 div.sk-parallel {display: flex;align-items: stretch;justify-content: center;background-color: white;position: relative;}#sk-container-id-1 div.sk-item::before, #sk-container-id-1 div.sk-parallel-item::before {content: \"\";position: absolute;border-left: 1px solid gray;box-sizing: border-box;top: 0;bottom: 0;left: 50%;z-index: -1;}#sk-container-id-1 div.sk-parallel-item {display: flex;flex-direction: column;z-index: 1;position: relative;background-color: white;}#sk-container-id-1 div.sk-parallel-item:first-child::after {align-self: flex-end;width: 50%;}#sk-container-id-1 div.sk-parallel-item:last-child::after {align-self: flex-start;width: 50%;}#sk-container-id-1 div.sk-parallel-item:only-child::after {width: 0;}#sk-container-id-1 div.sk-dashed-wrapped {border: 1px dashed gray;margin: 0 0.4em 0.5em 0.4em;box-sizing: border-box;padding-bottom: 0.4em;background-color: white;}#sk-container-id-1 div.sk-label label {font-family: monospace;font-weight: bold;display: inline-block;line-height: 1.2em;}#sk-container-id-1 div.sk-label-container {text-align: center;}#sk-container-id-1 div.sk-container {/* jupyter's `normalize.less` sets `[hidden] { display: none; }` but bootstrap.min.css set `[hidden] { display: none !important; }` so we also need the `!important` here to be able to override the default hidden behavior on the sphinx rendered scikit-learn.org. See: https://github.com/scikit-learn/scikit-learn/issues/21755 */display: inline-block !important;position: relative;}#sk-container-id-1 div.sk-text-repr-fallback {display: none;}</style><div id=\"sk-container-id-1\" class=\"sk-top-container\"><div class=\"sk-text-repr-fallback\"><pre>GaussianNB()</pre><b>In a Jupyter environment, please rerun this cell to show the HTML representation or trust the notebook. <br />On GitHub, the HTML representation is unable to render, please try loading this page with nbviewer.org.</b></div><div class=\"sk-container\" hidden><div class=\"sk-item\"><div class=\"sk-estimator sk-toggleable\"><input class=\"sk-toggleable__control sk-hidden--visually\" id=\"sk-estimator-id-1\" type=\"checkbox\" checked><label for=\"sk-estimator-id-1\" class=\"sk-toggleable__label sk-toggleable__label-arrow\">GaussianNB</label><div class=\"sk-toggleable__content\"><pre>GaussianNB()</pre></div></div></div></div></div>"
            ]
          },
          "metadata": {},
          "execution_count": 90
        }
      ]
    },
    {
      "cell_type": "code",
      "source": [
        "y_pred = classifier.predict(X_test)"
      ],
      "metadata": {
        "id": "UWc-7QS9dXs_"
      },
      "execution_count": null,
      "outputs": []
    },
    {
      "cell_type": "code",
      "source": [
        "#Confusion matrix for Naive Bates\n",
        "from sklearn.metrics import confusion_matrix\n",
        "cm_NB = confusion_matrix(y_test, y_pred)\n",
        "print(cm_NB)"
      ],
      "metadata": {
        "colab": {
          "base_uri": "https://localhost:8080/"
        },
        "id": "iCfUW-HRd9wF",
        "outputId": "d81329a8-64cc-4900-8e24-658171839add"
      },
      "execution_count": null,
      "outputs": [
        {
          "output_type": "stream",
          "name": "stdout",
          "text": [
            "[[84  6]\n",
            " [ 6 47]]\n"
          ]
        }
      ]
    },
    {
      "cell_type": "code",
      "source": [
        "accuracy_score(y_test, y_pred)\n",
        "print(classification_report(y_test, y_pred))"
      ],
      "metadata": {
        "colab": {
          "base_uri": "https://localhost:8080/"
        },
        "id": "B01p02ImeIGl",
        "outputId": "f6c260e0-2367-4806-e159-21c544e4af3c"
      },
      "execution_count": null,
      "outputs": [
        {
          "output_type": "stream",
          "name": "stdout",
          "text": [
            "              precision    recall  f1-score   support\n",
            "\n",
            "           0       0.93      0.93      0.93        90\n",
            "           1       0.89      0.89      0.89        53\n",
            "\n",
            "    accuracy                           0.92       143\n",
            "   macro avg       0.91      0.91      0.91       143\n",
            "weighted avg       0.92      0.92      0.92       143\n",
            "\n"
          ]
        }
      ]
    },
    {
      "cell_type": "code",
      "source": [
        "#Now time for comparing each result:\n",
        "import pandas as pd\n",
        "models_performance = {\n",
        "    'Model' : ['KNN3', 'KNN7', 'KNN11', 'NeuralHidden1', 'NeuralHidden2', 'NeuralHidden3', 'NaiveBayes'],\n",
        "    'Accuracy' : [0.94, 0.94, 0.96, 0.9561, 0.9474, 0.9679, 0.92],\n",
        "    'Precision' : [(0.96+0.90)/2, (0.95+0.91)/2, (0.96+0.95)/2, (0.9589+0.9512)/2, (0.9459+0.9500)/2, (0.9722+0.9524)/2, (0.93+0.89)/2],\n",
        "    'Recall' : [(0.93+0.94)/2, (0.94+0.92)/2, (0.97+0.94)/2, (0.9722+0.9286)/2, (0.9722+0.9048)/2, (0.9722+0.9524)/2, (0.93+0.89)/2],\n",
        "    'F1-Score' : [(0.95+0.92)/2, (0.95+0.91)/2, (0.97+0.94)/2, (0.9655+0.9398)/2, (0.9589+0.9268)/2, (0.9722+0.9524)/2, (0.93+0.89)/2]\n",
        "}\n",
        "performance_df_bcancer = pd.DataFrame(models_performance)\n",
        "print(performance_df_bcancer)"
      ],
      "metadata": {
        "colab": {
          "base_uri": "https://localhost:8080/"
        },
        "id": "SF25NpvyfnV2",
        "outputId": "b05e828d-8701-45cf-be27-736e659992f4"
      },
      "execution_count": null,
      "outputs": [
        {
          "output_type": "stream",
          "name": "stdout",
          "text": [
            "           Model  Accuracy  Precision  Recall  F1-Score\n",
            "0           KNN3    0.9400    0.93000  0.9350   0.93500\n",
            "1           KNN7    0.9400    0.93000  0.9300   0.93000\n",
            "2          KNN11    0.9600    0.95500  0.9550   0.95500\n",
            "3  NeuralHidden1    0.9561    0.95505  0.9504   0.95265\n",
            "4  NeuralHidden2    0.9474    0.94795  0.9385   0.94285\n",
            "5  NeuralHidden3    0.9679    0.96230  0.9623   0.96230\n",
            "6     NaiveBayes    0.9200    0.91000  0.9100   0.91000\n"
          ]
        }
      ]
    },
    {
      "cell_type": "code",
      "source": [
        "#Now time to compare!Note we use metrics to rank the models here\n",
        "def ranking_of_models(performance_df_bcancer, metrics):\n",
        "  ranked_dfBCancer = performance_df_bcancer[['Model', metrics]].sort_values(by=metrics, ascending=False).reset_index(drop=True)\n",
        "  ranked_dfBCancer.index += 1\n",
        "  return ranked_dfBCancer\n",
        "performance_df_bcancer = pd.DataFrame(models_performance)\n",
        "#also for visualizing heres the code:\n",
        "import seaborn as sea\n",
        "import matplotlib.pyplot as plt\n",
        "\n",
        "def visual_ranks(ranked_dfBCancer, metric):\n",
        "  plt.figure(figsize=(10, 6))\n",
        "  sea.barplot(x=metric, y='Model', data=ranked_dfBCancer, orient='h')\n",
        "  plt.title(f'Model ranking by {metric}')\n",
        "  plt.xlabel(metric)\n",
        "  plt.ylabel('Model')\n",
        "  plt.show()\n"
      ],
      "metadata": {
        "id": "zsY98Iwqkj-1"
      },
      "execution_count": null,
      "outputs": []
    },
    {
      "cell_type": "code",
      "source": [
        "#Accuracy:\n",
        "accuracy_rank = ranking_of_models(performance_df_bcancer, 'Accuracy')\n",
        "print(\"Model ranked by accuracy:\\n\", accuracy_rank)\n",
        "visual_ranks(accuracy_rank, 'Accuracy')"
      ],
      "metadata": {
        "colab": {
          "base_uri": "https://localhost:8080/",
          "height": 720
        },
        "id": "BpbI_mzUmJ0X",
        "outputId": "46af4d06-335d-4f5a-8188-9dd83b4236da"
      },
      "execution_count": null,
      "outputs": [
        {
          "output_type": "stream",
          "name": "stdout",
          "text": [
            "Model ranked by accuracy:\n",
            "            Model  Accuracy\n",
            "1  NeuralHidden3    0.9679\n",
            "2          KNN11    0.9600\n",
            "3  NeuralHidden1    0.9561\n",
            "4  NeuralHidden2    0.9474\n",
            "5           KNN3    0.9400\n",
            "6           KNN7    0.9400\n",
            "7     NaiveBayes    0.9200\n"
          ]
        },
        {
          "output_type": "display_data",
          "data": {
            "text/plain": [
              "<Figure size 1000x600 with 1 Axes>"
            ],
            "image/png": "[encoded data removed]"
          },
          "metadata": {}
        }
      ]
    },
    {
      "cell_type": "code",
      "source": [
        "#Precision:\n",
        "precision_rank = ranking_of_models(performance_df_bcancer, 'Precision')\n",
        "print(\"Models ranked by precision:\\n\", precision_rank)\n",
        "visual_ranks(precision_rank, 'Precision')"
      ],
      "metadata": {
        "colab": {
          "base_uri": "https://localhost:8080/",
          "height": 720
        },
        "id": "kiDq_4ZInJp0",
        "outputId": "a54d5d79-17e5-4200-93aa-39908d18c508"
      },
      "execution_count": null,
      "outputs": [
        {
          "output_type": "stream",
          "name": "stdout",
          "text": [
            "Models ranked by precision:\n",
            "            Model  Precision\n",
            "1  NeuralHidden3    0.96230\n",
            "2  NeuralHidden1    0.95505\n",
            "3          KNN11    0.95500\n",
            "4  NeuralHidden2    0.94795\n",
            "5           KNN3    0.93000\n",
            "6           KNN7    0.93000\n",
            "7     NaiveBayes    0.91000\n"
          ]
        },
        {
          "output_type": "display_data",
          "data": {
            "text/plain": [
              "<Figure size 1000x600 with 1 Axes>"
            ],
            "image/png": "[encoded data removed]"
          },
          "metadata": {}
        }
      ]
    },
    {
      "cell_type": "code",
      "source": [
        "#Recall:\n",
        "recall_rank = ranking_of_models(performance_df_bcancer, 'Recall')\n",
        "print(\"Models ranked by recall:\\n\", recall_rank)\n",
        "visual_ranks(recall_rank, 'Recall')"
      ],
      "metadata": {
        "colab": {
          "base_uri": "https://localhost:8080/",
          "height": 720
        },
        "id": "QqK0Ftprr85J",
        "outputId": "505861b7-db25-4c71-cb25-cdc6a4173c37"
      },
      "execution_count": null,
      "outputs": [
        {
          "output_type": "stream",
          "name": "stdout",
          "text": [
            "Models ranked by recall:\n",
            "            Model  Recall\n",
            "1  NeuralHidden3  0.9623\n",
            "2          KNN11  0.9550\n",
            "3  NeuralHidden1  0.9504\n",
            "4  NeuralHidden2  0.9385\n",
            "5           KNN3  0.9350\n",
            "6           KNN7  0.9300\n",
            "7     NaiveBayes  0.9100\n"
          ]
        },
        {
          "output_type": "display_data",
          "data": {
            "text/plain": [
              "<Figure size 1000x600 with 1 Axes>"
            ],
            "image/png": "[encoded data removed]"
          },
          "metadata": {}
        }
      ]
    },
    {
      "cell_type": "code",
      "source": [
        "#F1_score:\n",
        "f1_score_rank = ranking_of_models(performance_df_bcancer, 'F1-Score')\n",
        "print(\"Models ranked by F1-ScoreRank:\\n\", recall_rank)\n",
        "visual_ranks(f1_score_rank, 'F1-Score')"
      ],
      "metadata": {
        "colab": {
          "base_uri": "https://localhost:8080/",
          "height": 720
        },
        "id": "SLo-aEMDsCEL",
        "outputId": "71e294a9-e86b-424a-ab4d-af2a6bc0b0d6"
      },
      "execution_count": null,
      "outputs": [
        {
          "output_type": "stream",
          "name": "stdout",
          "text": [
            "Models ranked by F1-ScoreRank:\n",
            "            Model  Recall\n",
            "1  NeuralHidden3  0.9623\n",
            "2          KNN11  0.9550\n",
            "3  NeuralHidden1  0.9504\n",
            "4  NeuralHidden2  0.9385\n",
            "5           KNN3  0.9350\n",
            "6           KNN7  0.9300\n",
            "7     NaiveBayes  0.9100\n"
          ]
        },
        {
          "output_type": "display_data",
          "data": {
            "text/plain": [
              "<Figure size 1000x600 with 1 Axes>"
            ],
            "image/png": "[encoded data removed]"
          },
          "metadata": {}
        }
      ]
    },
    {
      "cell_type": "code",
      "source": [],
      "metadata": {
        "id": "EShare3gsI6W"
      },
      "execution_count": null,
      "outputs": []
    }
  ]
}